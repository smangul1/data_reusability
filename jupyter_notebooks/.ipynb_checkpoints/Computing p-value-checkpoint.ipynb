{
 "cells": [
  {
   "cell_type": "code",
   "execution_count": 1,
   "metadata": {},
   "outputs": [],
   "source": [
    "# load required modules\n",
    "import numpy as np\n",
    "import pandas as pd\n",
    "import scipy.stats"
   ]
  },
  {
   "cell_type": "markdown",
   "metadata": {},
   "source": [
    "### Reading data from csv files"
   ]
  },
  {
   "cell_type": "code",
   "execution_count": 2,
   "metadata": {},
   "outputs": [],
   "source": [
    "dfSRA = pd.read_csv('../data_tables/sraReuseTable.csv')\n",
    "dfGEO = pd.read_csv('../data_tables/geoReuseTable.csv')"
   ]
  },
  {
   "cell_type": "markdown",
   "metadata": {},
   "source": [
    "### Defining headers"
   ]
  },
  {
   "cell_type": "code",
   "execution_count": 3,
   "metadata": {},
   "outputs": [],
   "source": [
    "dfSRA.columns = ['accession', 'reuseCount']\n",
    "dfGEO.columns = ['accession', 'reuseCount']"
   ]
  },
  {
   "cell_type": "markdown",
   "metadata": {},
   "source": [
    "### Computing variances"
   ]
  },
  {
   "cell_type": "code",
   "execution_count": 12,
   "metadata": {},
   "outputs": [],
   "source": [
    "import pylab as pl"
   ]
  },
  {
   "cell_type": "code",
   "execution_count": 30,
   "metadata": {},
   "outputs": [
    {
     "data": {
      "image/png": "[encoded data removed]",
      "text/plain": [
       "<Figure size 432x288 with 1 Axes>"
      ]
     },
     "metadata": {
      "needs_background": "light"
     },
     "output_type": "display_data"
    }
   ],
   "source": [
    "pl.hist(dfGEO['reuseCount'], log=True, bins=50)\n",
    "pl.hist(dfSRA['reuseCount'], log=True, bins=10, alpha=0.5)\n",
    "pl.show()"
   ]
  },
  {
   "cell_type": "code",
   "execution_count": 33,
   "metadata": {},
   "outputs": [
    {
     "data": {
      "text/plain": [
       "{'whiskers': [<matplotlib.lines.Line2D at 0x121e757b8>,\n",
       "  <matplotlib.lines.Line2D at 0x121e752b0>,\n",
       "  <matplotlib.lines.Line2D at 0x12300bf60>,\n",
       "  <matplotlib.lines.Line2D at 0x12557e668>],\n",
       " 'caps': [<matplotlib.lines.Line2D at 0x12300bac8>,\n",
       "  <matplotlib.lines.Line2D at 0x12300b278>,\n",
       "  <matplotlib.lines.Line2D at 0x12557e9b0>,\n",
       "  <matplotlib.lines.Line2D at 0x12557ecf8>],\n",
       " 'boxes': [<matplotlib.lines.Line2D at 0x121e75940>,\n",
       "  <matplotlib.lines.Line2D at 0x12300bf98>],\n",
       " 'medians': [<matplotlib.lines.Line2D at 0x12300bc50>,\n",
       "  <matplotlib.lines.Line2D at 0x12557eda0>],\n",
       " 'fliers': [],\n",
       " 'means': []}"
      ]
     },
     "execution_count": 33,
     "metadata": {},
     "output_type": "execute_result"
    },
    {
     "data": {
      "image/png": "[encoded data removed]",
      "text/plain": [
       "<Figure size 432x288 with 1 Axes>"
      ]
     },
     "metadata": {
      "needs_background": "light"
     },
     "output_type": "display_data"
    }
   ],
   "source": [
    "pl.boxplot([dfGEO['reuseCount'],dfSRA['reuseCount']], showfliers=False)"
   ]
  },
  {
   "cell_type": "markdown",
   "metadata": {},
   "source": [
    "### Run mannWhitney test on the data"
   ]
  },
  {
   "cell_type": "code",
   "execution_count": 8,
   "metadata": {},
   "outputs": [
    {
     "data": {
      "text/plain": [
       "MannwhitneyuResult(statistic=1554482170.5, pvalue=0.0)"
      ]
     },
     "execution_count": 8,
     "metadata": {},
     "output_type": "execute_result"
    }
   ],
   "source": [
    "scipy.stats.mannwhitneyu(dfSRA['reuseCount'], dfGEO['reuseCount'])"
   ]
  }
 ],
 "metadata": {
  "kernelspec": {
   "display_name": "Python 3",
   "language": "python",
   "name": "python3"
  },
  "language_info": {
   "codemirror_mode": {
    "name": "ipython",
    "version": 3
   },
   "file_extension": ".py",
   "mimetype": "text/x-python",
   "name": "python",
   "nbconvert_exporter": "python",
   "pygments_lexer": "ipython3",
   "version": "3.7.3"
  }
 },
 "nbformat": 4,
 "nbformat_minor": 2
}
